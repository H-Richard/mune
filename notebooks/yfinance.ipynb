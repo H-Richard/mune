{
 "cells": [
  {
   "cell_type": "code",
   "execution_count": 77,
   "id": "standing-necessity",
   "metadata": {},
   "outputs": [],
   "source": [
    "from datetime import date, timedelta, datetime\n",
    "import yfinance as yf\n",
    "\n",
    "DATE_FORMAT = \"%Y-%m-%d\"\n",
    "\n",
    "TODAY = date.today()\n",
    "ONE_YEAR_AGO = TODAY - timedelta(days=365)\n",
    "# [1m, 2m, 5m, 15m, 30m, 60m, 90m, 1h, 1d, 5d, 1wk, 1mo, 3mo]\n",
    "\n",
    "\n",
    "def smallest_interval(start, end):\n",
    "    duration = end - start\n",
    "    if(duration <= timedelta(days=60)):\n",
    "        return \"1m\"\n",
    "    if(duration <= timedelta(days=730)):\n",
    "        return \"1h\"\n",
    "    return \"1d\"\n",
    "\n",
    "def load_data(ticker, start=ONE_YEAR_AGO, end=TODAY): \n",
    "    return (yf.download(ticker, start.strftime(DATE_FORMAT), end.strftime(DATE_FORMAT), interval=\"1h\").reset_index())"
   ]
  },
  {
   "cell_type": "code",
   "execution_count": 78,
   "id": "toxic-germany",
   "metadata": {},
   "outputs": [
    {
     "name": "stdout",
     "output_type": "stream",
     "text": [
      "[*********************100%***********************]  1 of 1 completed\n"
     ]
    },
    {
     "data": {
      "text/html": [
       "<div>\n",
       "<style scoped>\n",
       "    .dataframe tbody tr th:only-of-type {\n",
       "        vertical-align: middle;\n",
       "    }\n",
       "\n",
       "    .dataframe tbody tr th {\n",
       "        vertical-align: top;\n",
       "    }\n",
       "\n",
       "    .dataframe thead th {\n",
       "        text-align: right;\n",
       "    }\n",
       "</style>\n",
       "<table border=\"1\" class=\"dataframe\">\n",
       "  <thead>\n",
       "    <tr style=\"text-align: right;\">\n",
       "      <th></th>\n",
       "      <th>Date</th>\n",
       "      <th>Open</th>\n",
       "      <th>High</th>\n",
       "      <th>Low</th>\n",
       "      <th>Close</th>\n",
       "      <th>Adj Close</th>\n",
       "      <th>Volume</th>\n",
       "    </tr>\n",
       "  </thead>\n",
       "  <tbody>\n",
       "    <tr>\n",
       "      <th>0</th>\n",
       "      <td>2020-03-19</td>\n",
       "      <td>336.160004</td>\n",
       "      <td>345.599915</td>\n",
       "      <td>316.000000</td>\n",
       "      <td>337.842010</td>\n",
       "      <td>337.842010</td>\n",
       "      <td>788945</td>\n",
       "    </tr>\n",
       "    <tr>\n",
       "      <th>1</th>\n",
       "      <td>2020-03-19</td>\n",
       "      <td>338.000000</td>\n",
       "      <td>338.989014</td>\n",
       "      <td>322.000000</td>\n",
       "      <td>332.406006</td>\n",
       "      <td>332.406006</td>\n",
       "      <td>547580</td>\n",
       "    </tr>\n",
       "    <tr>\n",
       "      <th>2</th>\n",
       "      <td>2020-03-19</td>\n",
       "      <td>333.157898</td>\n",
       "      <td>333.157898</td>\n",
       "      <td>322.010010</td>\n",
       "      <td>326.609985</td>\n",
       "      <td>326.609985</td>\n",
       "      <td>385816</td>\n",
       "    </tr>\n",
       "    <tr>\n",
       "      <th>3</th>\n",
       "      <td>2020-03-19</td>\n",
       "      <td>326.089600</td>\n",
       "      <td>334.000000</td>\n",
       "      <td>324.000000</td>\n",
       "      <td>330.299988</td>\n",
       "      <td>330.299988</td>\n",
       "      <td>258870</td>\n",
       "    </tr>\n",
       "    <tr>\n",
       "      <th>4</th>\n",
       "      <td>2020-03-19</td>\n",
       "      <td>329.809998</td>\n",
       "      <td>341.429993</td>\n",
       "      <td>329.329987</td>\n",
       "      <td>338.000000</td>\n",
       "      <td>338.000000</td>\n",
       "      <td>342053</td>\n",
       "    </tr>\n",
       "    <tr>\n",
       "      <th>...</th>\n",
       "      <td>...</td>\n",
       "      <td>...</td>\n",
       "      <td>...</td>\n",
       "      <td>...</td>\n",
       "      <td>...</td>\n",
       "      <td>...</td>\n",
       "      <td>...</td>\n",
       "    </tr>\n",
       "    <tr>\n",
       "      <th>1753</th>\n",
       "      <td>2021-03-18</td>\n",
       "      <td>1137.760010</td>\n",
       "      <td>1141.630005</td>\n",
       "      <td>1129.535034</td>\n",
       "      <td>1140.489990</td>\n",
       "      <td>1140.489990</td>\n",
       "      <td>95547</td>\n",
       "    </tr>\n",
       "    <tr>\n",
       "      <th>1754</th>\n",
       "      <td>2021-03-18</td>\n",
       "      <td>1141.459961</td>\n",
       "      <td>1145.839966</td>\n",
       "      <td>1134.819946</td>\n",
       "      <td>1145.520020</td>\n",
       "      <td>1145.520020</td>\n",
       "      <td>65803</td>\n",
       "    </tr>\n",
       "    <tr>\n",
       "      <th>1755</th>\n",
       "      <td>2021-03-18</td>\n",
       "      <td>1146.880005</td>\n",
       "      <td>1148.000000</td>\n",
       "      <td>1121.079956</td>\n",
       "      <td>1121.079956</td>\n",
       "      <td>1121.079956</td>\n",
       "      <td>82130</td>\n",
       "    </tr>\n",
       "    <tr>\n",
       "      <th>1756</th>\n",
       "      <td>2021-03-18</td>\n",
       "      <td>1123.739990</td>\n",
       "      <td>1125.619995</td>\n",
       "      <td>1115.000000</td>\n",
       "      <td>1119.550049</td>\n",
       "      <td>1119.550049</td>\n",
       "      <td>169948</td>\n",
       "    </tr>\n",
       "    <tr>\n",
       "      <th>1757</th>\n",
       "      <td>2021-03-18</td>\n",
       "      <td>1121.770020</td>\n",
       "      <td>1123.000000</td>\n",
       "      <td>1106.260010</td>\n",
       "      <td>1117.079956</td>\n",
       "      <td>1117.079956</td>\n",
       "      <td>206467</td>\n",
       "    </tr>\n",
       "  </tbody>\n",
       "</table>\n",
       "<p>1758 rows × 7 columns</p>\n",
       "</div>"
      ],
      "text/plain": [
       "           Date         Open         High          Low        Close  \\\n",
       "0    2020-03-19   336.160004   345.599915   316.000000   337.842010   \n",
       "1    2020-03-19   338.000000   338.989014   322.000000   332.406006   \n",
       "2    2020-03-19   333.157898   333.157898   322.010010   326.609985   \n",
       "3    2020-03-19   326.089600   334.000000   324.000000   330.299988   \n",
       "4    2020-03-19   329.809998   341.429993   329.329987   338.000000   \n",
       "...         ...          ...          ...          ...          ...   \n",
       "1753 2021-03-18  1137.760010  1141.630005  1129.535034  1140.489990   \n",
       "1754 2021-03-18  1141.459961  1145.839966  1134.819946  1145.520020   \n",
       "1755 2021-03-18  1146.880005  1148.000000  1121.079956  1121.079956   \n",
       "1756 2021-03-18  1123.739990  1125.619995  1115.000000  1119.550049   \n",
       "1757 2021-03-18  1121.770020  1123.000000  1106.260010  1117.079956   \n",
       "\n",
       "        Adj Close  Volume  \n",
       "0      337.842010  788945  \n",
       "1      332.406006  547580  \n",
       "2      326.609985  385816  \n",
       "3      330.299988  258870  \n",
       "4      338.000000  342053  \n",
       "...           ...     ...  \n",
       "1753  1140.489990   95547  \n",
       "1754  1145.520020   65803  \n",
       "1755  1121.079956   82130  \n",
       "1756  1119.550049  169948  \n",
       "1757  1117.079956  206467  \n",
       "\n",
       "[1758 rows x 7 columns]"
      ]
     },
     "execution_count": 78,
     "metadata": {},
     "output_type": "execute_result"
    }
   ],
   "source": [
    "load_data('SHOP')"
   ]
  },
  {
   "cell_type": "code",
   "execution_count": 65,
   "id": "abstract-pregnancy",
   "metadata": {},
   "outputs": [],
   "source": [
    "ticker = yf.Ticker(\"MSFT\")"
   ]
  },
  {
   "cell_type": "code",
   "execution_count": 61,
   "id": "numeric-pastor",
   "metadata": {},
   "outputs": [
    {
     "data": {
      "text/plain": [
       "Date\n",
       "2014-03-27    2.002000\n",
       "2015-04-27    1.002746\n",
       "Name: Stock Splits, dtype: float64"
      ]
     },
     "execution_count": 61,
     "metadata": {},
     "output_type": "execute_result"
    }
   ],
   "source": [
    "ticker.dividends\n",
    "ticker.financials\n",
    "ticker.splits\n"
   ]
  },
  {
   "cell_type": "code",
   "execution_count": 67,
   "id": "convertible-flexibility",
   "metadata": {},
   "outputs": [
    {
     "data": {
      "text/html": [
       "<div>\n",
       "<style scoped>\n",
       "    .dataframe tbody tr th:only-of-type {\n",
       "        vertical-align: middle;\n",
       "    }\n",
       "\n",
       "    .dataframe tbody tr th {\n",
       "        vertical-align: top;\n",
       "    }\n",
       "\n",
       "    .dataframe thead th {\n",
       "        text-align: right;\n",
       "    }\n",
       "</style>\n",
       "<table border=\"1\" class=\"dataframe\">\n",
       "  <thead>\n",
       "    <tr style=\"text-align: right;\">\n",
       "      <th></th>\n",
       "      <th>Open</th>\n",
       "      <th>High</th>\n",
       "      <th>Low</th>\n",
       "      <th>Close</th>\n",
       "      <th>Adj Close</th>\n",
       "      <th>Volume</th>\n",
       "    </tr>\n",
       "    <tr>\n",
       "      <th>Date</th>\n",
       "      <th></th>\n",
       "      <th></th>\n",
       "      <th></th>\n",
       "      <th></th>\n",
       "      <th></th>\n",
       "      <th></th>\n",
       "    </tr>\n",
       "  </thead>\n",
       "  <tbody>\n",
       "  </tbody>\n",
       "</table>\n",
       "</div>"
      ],
      "text/plain": [
       "Empty DataFrame\n",
       "Columns: [Open, High, Low, Close, Adj Close, Volume]\n",
       "Index: []"
      ]
     },
     "execution_count": 67,
     "metadata": {},
     "output_type": "execute_result"
    }
   ],
   "source": [
    "ticker.financials"
   ]
  },
  {
   "cell_type": "code",
   "execution_count": 69,
   "id": "becoming-slave",
   "metadata": {},
   "outputs": [
    {
     "name": "stdout",
     "output_type": "stream",
     "text": [
      "[*********************100%***********************]  1 of 1 completed\n",
      "\n",
      "1 Failed download:\n",
      "- SHOP: Invalid input - interval=1hfg is not supported. Valid intervals: [1m, 2m, 5m, 15m, 30m, 60m, 90m, 1h, 1d, 5d, 1wk, 1mo, 3mo]\n"
     ]
    },
    {
     "data": {
      "text/html": [
       "<div>\n",
       "<style scoped>\n",
       "    .dataframe tbody tr th:only-of-type {\n",
       "        vertical-align: middle;\n",
       "    }\n",
       "\n",
       "    .dataframe tbody tr th {\n",
       "        vertical-align: top;\n",
       "    }\n",
       "\n",
       "    .dataframe thead th {\n",
       "        text-align: right;\n",
       "    }\n",
       "</style>\n",
       "<table border=\"1\" class=\"dataframe\">\n",
       "  <thead>\n",
       "    <tr style=\"text-align: right;\">\n",
       "      <th></th>\n",
       "      <th>Date</th>\n",
       "      <th>Open</th>\n",
       "      <th>High</th>\n",
       "      <th>Low</th>\n",
       "      <th>Close</th>\n",
       "      <th>Adj Close</th>\n",
       "      <th>Volume</th>\n",
       "    </tr>\n",
       "  </thead>\n",
       "  <tbody>\n",
       "  </tbody>\n",
       "</table>\n",
       "</div>"
      ],
      "text/plain": [
       "Empty DataFrame\n",
       "Columns: [Date, Open, High, Low, Close, Adj Close, Volume]\n",
       "Index: []"
      ]
     },
     "execution_count": 69,
     "metadata": {},
     "output_type": "execute_result"
    }
   ],
   "source": [
    "load_data('SHOP')"
   ]
  },
  {
   "cell_type": "code",
   "execution_count": null,
   "id": "oriental-workplace",
   "metadata": {},
   "outputs": [],
   "source": []
  }
 ],
 "metadata": {
  "kernelspec": {
   "display_name": "Python 3",
   "language": "python",
   "name": "python3"
  },
  "language_info": {
   "codemirror_mode": {
    "name": "ipython",
    "version": 3
   },
   "file_extension": ".py",
   "mimetype": "text/x-python",
   "name": "python",
   "nbconvert_exporter": "python",
   "pygments_lexer": "ipython3",
   "version": "3.9.2"
  }
 },
 "nbformat": 4,
 "nbformat_minor": 5
}
